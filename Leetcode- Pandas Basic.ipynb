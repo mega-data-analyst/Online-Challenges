{
 "cells": [
  {
   "cell_type": "code",
   "execution_count": 1,
   "id": "cb36c99a",
   "metadata": {},
   "outputs": [],
   "source": [
    "from typing import List\n",
    "import pandas as pd"
   ]
  },
  {
   "cell_type": "markdown",
   "id": "b14201c9",
   "metadata": {},
   "source": [
    "### Creating a DataFrame from List\n",
    "#### Write a solution to create a DataFrame from a 2D list called student_data. This 2D list contains the IDs and \n",
    "#### ages of some students.\n",
    "#### The DataFrame should have two columns, student_id and age, and be in the same order as the original 2D list."
   ]
  },
  {
   "cell_type": "code",
   "execution_count": 2,
   "id": "ba719a17",
   "metadata": {},
   "outputs": [
    {
     "data": {
      "text/html": [
       "<div>\n",
       "<style scoped>\n",
       "    .dataframe tbody tr th:only-of-type {\n",
       "        vertical-align: middle;\n",
       "    }\n",
       "\n",
       "    .dataframe tbody tr th {\n",
       "        vertical-align: top;\n",
       "    }\n",
       "\n",
       "    .dataframe thead th {\n",
       "        text-align: right;\n",
       "    }\n",
       "</style>\n",
       "<table border=\"1\" class=\"dataframe\">\n",
       "  <thead>\n",
       "    <tr style=\"text-align: right;\">\n",
       "      <th></th>\n",
       "      <th>student_id</th>\n",
       "      <th>age</th>\n",
       "    </tr>\n",
       "  </thead>\n",
       "  <tbody>\n",
       "    <tr>\n",
       "      <th>0</th>\n",
       "      <td>1</td>\n",
       "      <td>15</td>\n",
       "    </tr>\n",
       "    <tr>\n",
       "      <th>1</th>\n",
       "      <td>2</td>\n",
       "      <td>11</td>\n",
       "    </tr>\n",
       "    <tr>\n",
       "      <th>2</th>\n",
       "      <td>3</td>\n",
       "      <td>11</td>\n",
       "    </tr>\n",
       "    <tr>\n",
       "      <th>3</th>\n",
       "      <td>4</td>\n",
       "      <td>20</td>\n",
       "    </tr>\n",
       "  </tbody>\n",
       "</table>\n",
       "</div>"
      ],
      "text/plain": [
       "   student_id  age\n",
       "0           1   15\n",
       "1           2   11\n",
       "2           3   11\n",
       "3           4   20"
      ]
     },
     "execution_count": 2,
     "metadata": {},
     "output_type": "execute_result"
    }
   ],
   "source": [
    "# Parameters:2D list containing student IDs and ages, Returns: DataFrame with two columns, student_id and age.\n",
    "def createDataframe(student_data: List[List[int]]) -> pd.DataFrame:\n",
    "# Define column names\n",
    "    columns = ['student_id','age']\n",
    "# Create DataFrame\n",
    "    df = pd.DataFrame(student_data,columns = columns)\n",
    "    return df\n",
    "# Test the function with example data\n",
    "student_data = [\n",
    "    [1, 15],\n",
    "    [2, 11],\n",
    "    [3, 11],\n",
    "    [4, 20]\n",
    "]\n",
    "createDataframe(student_data)"
   ]
  },
  {
   "cell_type": "markdown",
   "id": "a8253675",
   "metadata": {},
   "source": [
    "### Get the size of a DataFrame\n",
    "#### Write a solution to calculate and display the number of rows and columns of players.\n",
    "#### Return the result as an array: [number of rows, number of columns]   "
   ]
  },
  {
   "cell_type": "code",
   "execution_count": 3,
   "id": "23b3fc5d",
   "metadata": {},
   "outputs": [],
   "source": [
    "players_data = {\n",
    "    'player_id': [846, 749, 155, 583, 388, 883, 355, 247, 761, 642],\n",
    "    'name': ['Mason', 'Riley', 'Bob', 'Isabella', 'Zachary', 'Ava', 'Violet', 'Thomas', 'Jack', 'Charlie'],\n",
    "    'age': [21, 30, 28, 32, 24, 23, 18, 27, 33, 36],\n",
    "    'position': ['Forward', 'Winger', 'Striker', 'Goalkeeper', 'Midfielder', 'Defender', 'Striker', 'Striker', 'Midfielder', 'Center-back'],\n",
    "    'team': ['RealMadrid', 'Barcelona', 'ManchesterUnited', 'Liverpool', 'BayernMunich', 'Chelsea', 'Juventus', 'ParisSaint-Germain', 'ManchesterCity', 'Arsenal']\n",
    "}"
   ]
  },
  {
   "cell_type": "code",
   "execution_count": 4,
   "id": "07fb4c55",
   "metadata": {},
   "outputs": [],
   "source": [
    "# Creating the DataFrame\n",
    "players = pd.DataFrame(players_data)"
   ]
  },
  {
   "cell_type": "code",
   "execution_count": 5,
   "id": "7ef7ade4",
   "metadata": {},
   "outputs": [
    {
     "name": "stdout",
     "output_type": "stream",
     "text": [
      "[10, 5]\n"
     ]
    }
   ],
   "source": [
    "# Defining the function\n",
    "def getDataframesize(players: pd.DataFrame) -> List[int]:\n",
    "    num_rows = players.shape[0]\n",
    "    num_cols = players.shape[1]\n",
    "    return[num_rows,num_cols]\n",
    "# Testing the function\n",
    "print(getDataframesize(players))"
   ]
  },
  {
   "cell_type": "markdown",
   "id": "1a4130fc",
   "metadata": {},
   "source": [
    "### Display the First Three Rows\n",
    "#### Write a solution to display the first 3 rows of this DataFrame."
   ]
  },
  {
   "cell_type": "code",
   "execution_count": 6,
   "id": "63317542",
   "metadata": {},
   "outputs": [],
   "source": [
    "employees_data = {\n",
    "    'employee_id': [3, 90, 9, 60, 49, 43],\n",
    "    'name': ['Bob', 'Alice', 'Tatiana', 'Annabelle', 'Jonathan', 'Khaled'],\n",
    "    'department': ['Operations', 'Sales', 'Engineering', 'InformationTechnology', 'HumanResources', 'Administration'],\n",
    "    'salary': [48675, 11096, 33805, 37678, 23793, 40454]\n",
    "}"
   ]
  },
  {
   "cell_type": "code",
   "execution_count": 7,
   "id": "33850e60",
   "metadata": {},
   "outputs": [],
   "source": [
    "# Creating the Dataframe\n",
    "employees = pd.DataFrame(employees_data)"
   ]
  },
  {
   "cell_type": "code",
   "execution_count": 8,
   "id": "36124474",
   "metadata": {},
   "outputs": [
    {
     "name": "stdout",
     "output_type": "stream",
     "text": [
      "   employee_id     name   department  salary\n",
      "0            3      Bob   Operations   48675\n",
      "1           90    Alice        Sales   11096\n",
      "2            9  Tatiana  Engineering   33805\n"
     ]
    }
   ],
   "source": [
    "#Defining the function\n",
    "def selectFirstRows(employees: pd.DataFrame) -> pd.DataFrame:\n",
    "    return employees.head(3)\n",
    "print(selectFirstRows(employees))"
   ]
  },
  {
   "cell_type": "markdown",
   "id": "f26021cf",
   "metadata": {},
   "source": [
    "### Select Data\n",
    "#### Write a solution to select the name and age of the student with student_id = 101."
   ]
  },
  {
   "cell_type": "code",
   "execution_count": 9,
   "id": "0611c606",
   "metadata": {},
   "outputs": [],
   "source": [
    "student_data = {\n",
    "    'student_id': [101,53,128,3],\n",
    "    'name' : ['Ulysses','William','Henry','Henry'],\n",
    "    'age' : [13,10,6,11]   \n",
    "}"
   ]
  },
  {
   "cell_type": "code",
   "execution_count": 10,
   "id": "297a9162",
   "metadata": {},
   "outputs": [
    {
     "data": {
      "text/html": [
       "<div>\n",
       "<style scoped>\n",
       "    .dataframe tbody tr th:only-of-type {\n",
       "        vertical-align: middle;\n",
       "    }\n",
       "\n",
       "    .dataframe tbody tr th {\n",
       "        vertical-align: top;\n",
       "    }\n",
       "\n",
       "    .dataframe thead th {\n",
       "        text-align: right;\n",
       "    }\n",
       "</style>\n",
       "<table border=\"1\" class=\"dataframe\">\n",
       "  <thead>\n",
       "    <tr style=\"text-align: right;\">\n",
       "      <th></th>\n",
       "      <th>student_id</th>\n",
       "      <th>name</th>\n",
       "      <th>age</th>\n",
       "    </tr>\n",
       "  </thead>\n",
       "  <tbody>\n",
       "    <tr>\n",
       "      <th>0</th>\n",
       "      <td>101</td>\n",
       "      <td>Ulysses</td>\n",
       "      <td>13</td>\n",
       "    </tr>\n",
       "    <tr>\n",
       "      <th>1</th>\n",
       "      <td>53</td>\n",
       "      <td>William</td>\n",
       "      <td>10</td>\n",
       "    </tr>\n",
       "    <tr>\n",
       "      <th>2</th>\n",
       "      <td>128</td>\n",
       "      <td>Henry</td>\n",
       "      <td>6</td>\n",
       "    </tr>\n",
       "    <tr>\n",
       "      <th>3</th>\n",
       "      <td>3</td>\n",
       "      <td>Henry</td>\n",
       "      <td>11</td>\n",
       "    </tr>\n",
       "  </tbody>\n",
       "</table>\n",
       "</div>"
      ],
      "text/plain": [
       "   student_id     name  age\n",
       "0         101  Ulysses   13\n",
       "1          53  William   10\n",
       "2         128    Henry    6\n",
       "3           3    Henry   11"
      ]
     },
     "execution_count": 10,
     "metadata": {},
     "output_type": "execute_result"
    }
   ],
   "source": [
    "students = pd.DataFrame(student_data)\n",
    "students"
   ]
  },
  {
   "cell_type": "code",
   "execution_count": 11,
   "id": "024b3b87",
   "metadata": {},
   "outputs": [
    {
     "name": "stdout",
     "output_type": "stream",
     "text": [
      "      name  age\n",
      "0  Ulysses   13\n"
     ]
    }
   ],
   "source": [
    "def selectData(students: pd.DataFrame) -> pd.DataFrame:\n",
    "    selected_student = students[students['student_id'] == 101]\n",
    "    selected_info = selected_student[['name','age']]\n",
    "    return selected_info\n",
    "print(selectData(students))"
   ]
  },
  {
   "cell_type": "markdown",
   "id": "4e970ebb",
   "metadata": {},
   "source": [
    "### Create a New Column\n",
    "#### A company plans to provide its employees with a bonus.\n",
    "#### Write a solution to create a new column name bonus that contains the doubled values of the salary column."
   ]
  },
  {
   "cell_type": "code",
   "execution_count": 12,
   "id": "ef44c33b",
   "metadata": {},
   "outputs": [
    {
     "data": {
      "text/html": [
       "<div>\n",
       "<style scoped>\n",
       "    .dataframe tbody tr th:only-of-type {\n",
       "        vertical-align: middle;\n",
       "    }\n",
       "\n",
       "    .dataframe tbody tr th {\n",
       "        vertical-align: top;\n",
       "    }\n",
       "\n",
       "    .dataframe thead th {\n",
       "        text-align: right;\n",
       "    }\n",
       "</style>\n",
       "<table border=\"1\" class=\"dataframe\">\n",
       "  <thead>\n",
       "    <tr style=\"text-align: right;\">\n",
       "      <th></th>\n",
       "      <th>name</th>\n",
       "      <th>salary</th>\n",
       "    </tr>\n",
       "  </thead>\n",
       "  <tbody>\n",
       "    <tr>\n",
       "      <th>0</th>\n",
       "      <td>Piper</td>\n",
       "      <td>4548</td>\n",
       "    </tr>\n",
       "    <tr>\n",
       "      <th>1</th>\n",
       "      <td>Grace</td>\n",
       "      <td>28150</td>\n",
       "    </tr>\n",
       "    <tr>\n",
       "      <th>2</th>\n",
       "      <td>Georgia</td>\n",
       "      <td>1103</td>\n",
       "    </tr>\n",
       "    <tr>\n",
       "      <th>3</th>\n",
       "      <td>Willow</td>\n",
       "      <td>6593</td>\n",
       "    </tr>\n",
       "    <tr>\n",
       "      <th>4</th>\n",
       "      <td>Finn</td>\n",
       "      <td>74576</td>\n",
       "    </tr>\n",
       "    <tr>\n",
       "      <th>5</th>\n",
       "      <td>Thomas</td>\n",
       "      <td>24433</td>\n",
       "    </tr>\n",
       "  </tbody>\n",
       "</table>\n",
       "</div>"
      ],
      "text/plain": [
       "      name  salary\n",
       "0    Piper    4548\n",
       "1    Grace   28150\n",
       "2  Georgia    1103\n",
       "3   Willow    6593\n",
       "4     Finn   74576\n",
       "5   Thomas   24433"
      ]
     },
     "execution_count": 12,
     "metadata": {},
     "output_type": "execute_result"
    }
   ],
   "source": [
    "employees_data = {\n",
    "    'name': ['Piper','Grace','Georgia','Willow','Finn','Thomas'],\n",
    "    'salary': [4548,28150,1103,6593,74576,24433]\n",
    "}\n",
    "employees = pd.DataFrame(employees_data)\n",
    "employees"
   ]
  },
  {
   "cell_type": "code",
   "execution_count": 13,
   "id": "9bba4f97",
   "metadata": {},
   "outputs": [
    {
     "name": "stdout",
     "output_type": "stream",
     "text": [
      "      name  salary   bonus\n",
      "0    Piper    4548    9096\n",
      "1    Grace   28150   56300\n",
      "2  Georgia    1103    2206\n",
      "3   Willow    6593   13186\n",
      "4     Finn   74576  149152\n",
      "5   Thomas   24433   48866\n"
     ]
    }
   ],
   "source": [
    "def createBonusColumn(employees: pd.DataFrame) -> pd.DataFrame:\n",
    "    employees['bonus'] = employees['salary']*2\n",
    "    return employees\n",
    "print(createBonusColumn(employees))"
   ]
  },
  {
   "cell_type": "markdown",
   "id": "30d5b822",
   "metadata": {},
   "source": [
    "### Drop Duplicate Rows\n",
    "#### There are some duplicate rows in the DataFrame based on the email column.\n",
    "#### Write a solution to remove these duplicate rows and keep only the first occurrence."
   ]
  },
  {
   "cell_type": "code",
   "execution_count": 14,
   "id": "d183ee33",
   "metadata": {},
   "outputs": [
    {
     "data": {
      "text/html": [
       "<div>\n",
       "<style scoped>\n",
       "    .dataframe tbody tr th:only-of-type {\n",
       "        vertical-align: middle;\n",
       "    }\n",
       "\n",
       "    .dataframe tbody tr th {\n",
       "        vertical-align: top;\n",
       "    }\n",
       "\n",
       "    .dataframe thead th {\n",
       "        text-align: right;\n",
       "    }\n",
       "</style>\n",
       "<table border=\"1\" class=\"dataframe\">\n",
       "  <thead>\n",
       "    <tr style=\"text-align: right;\">\n",
       "      <th></th>\n",
       "      <th>customer_id</th>\n",
       "      <th>name</th>\n",
       "      <th>email</th>\n",
       "    </tr>\n",
       "  </thead>\n",
       "  <tbody>\n",
       "    <tr>\n",
       "      <th>0</th>\n",
       "      <td>1</td>\n",
       "      <td>Ella</td>\n",
       "      <td>emily@example.com</td>\n",
       "    </tr>\n",
       "    <tr>\n",
       "      <th>1</th>\n",
       "      <td>2</td>\n",
       "      <td>David</td>\n",
       "      <td>michael@example.com</td>\n",
       "    </tr>\n",
       "    <tr>\n",
       "      <th>2</th>\n",
       "      <td>3</td>\n",
       "      <td>Zachary</td>\n",
       "      <td>sarah@example.com</td>\n",
       "    </tr>\n",
       "    <tr>\n",
       "      <th>3</th>\n",
       "      <td>4</td>\n",
       "      <td>Alice</td>\n",
       "      <td>john@example.com</td>\n",
       "    </tr>\n",
       "    <tr>\n",
       "      <th>4</th>\n",
       "      <td>5</td>\n",
       "      <td>Finn</td>\n",
       "      <td>john@example.com</td>\n",
       "    </tr>\n",
       "    <tr>\n",
       "      <th>5</th>\n",
       "      <td>6</td>\n",
       "      <td>Violet</td>\n",
       "      <td>alice@example.com</td>\n",
       "    </tr>\n",
       "  </tbody>\n",
       "</table>\n",
       "</div>"
      ],
      "text/plain": [
       "   customer_id     name                email\n",
       "0            1     Ella    emily@example.com\n",
       "1            2    David  michael@example.com\n",
       "2            3  Zachary    sarah@example.com\n",
       "3            4    Alice     john@example.com\n",
       "4            5     Finn     john@example.com\n",
       "5            6   Violet    alice@example.com"
      ]
     },
     "execution_count": 14,
     "metadata": {},
     "output_type": "execute_result"
    }
   ],
   "source": [
    "customers_data = {\n",
    "    'customer_id' : [1,2,3,4,5,6],\n",
    "    'name' : ['Ella','David','Zachary','Alice','Finn','Violet'],\n",
    "    'email' : ['emily@example.com','michael@example.com','sarah@example.com','john@example.com','john@example.com',\n",
    "               'alice@example.com']\n",
    "}\n",
    "customers = pd.DataFrame(customers_data)\n",
    "customers"
   ]
  },
  {
   "cell_type": "code",
   "execution_count": 15,
   "id": "8244f55c",
   "metadata": {},
   "outputs": [
    {
     "name": "stdout",
     "output_type": "stream",
     "text": [
      "   customer_id     name                email\n",
      "0            1     Ella    emily@example.com\n",
      "1            2    David  michael@example.com\n",
      "2            3  Zachary    sarah@example.com\n",
      "3            4    Alice     john@example.com\n",
      "5            6   Violet    alice@example.com\n"
     ]
    }
   ],
   "source": [
    "def dropDuplicateEmails(customers: pd.DataFrame) -> pd.DataFrame:\n",
    "    unique_customer = customers.drop_duplicates(subset = 'email',keep = 'first')\n",
    "    return unique_customer\n",
    "print(dropDuplicateEmails(customers))"
   ]
  },
  {
   "cell_type": "markdown",
   "id": "bea7dbdf",
   "metadata": {},
   "source": [
    "### Drop Missing Data\n",
    "#### There are some rows having missing values in the name column.\n",
    "#### Write a solution to remove the rows with missing values."
   ]
  },
  {
   "cell_type": "code",
   "execution_count": 16,
   "id": "fa78413d",
   "metadata": {},
   "outputs": [
    {
     "data": {
      "text/html": [
       "<div>\n",
       "<style scoped>\n",
       "    .dataframe tbody tr th:only-of-type {\n",
       "        vertical-align: middle;\n",
       "    }\n",
       "\n",
       "    .dataframe tbody tr th {\n",
       "        vertical-align: top;\n",
       "    }\n",
       "\n",
       "    .dataframe thead th {\n",
       "        text-align: right;\n",
       "    }\n",
       "</style>\n",
       "<table border=\"1\" class=\"dataframe\">\n",
       "  <thead>\n",
       "    <tr style=\"text-align: right;\">\n",
       "      <th></th>\n",
       "      <th>student_id</th>\n",
       "      <th>name</th>\n",
       "      <th>age</th>\n",
       "    </tr>\n",
       "  </thead>\n",
       "  <tbody>\n",
       "    <tr>\n",
       "      <th>0</th>\n",
       "      <td>32</td>\n",
       "      <td>Piper</td>\n",
       "      <td>5</td>\n",
       "    </tr>\n",
       "    <tr>\n",
       "      <th>1</th>\n",
       "      <td>217</td>\n",
       "      <td>None</td>\n",
       "      <td>19</td>\n",
       "    </tr>\n",
       "    <tr>\n",
       "      <th>2</th>\n",
       "      <td>779</td>\n",
       "      <td>Georgia</td>\n",
       "      <td>20</td>\n",
       "    </tr>\n",
       "    <tr>\n",
       "      <th>3</th>\n",
       "      <td>849</td>\n",
       "      <td>Willow</td>\n",
       "      <td>14</td>\n",
       "    </tr>\n",
       "  </tbody>\n",
       "</table>\n",
       "</div>"
      ],
      "text/plain": [
       "   student_id     name  age\n",
       "0          32    Piper    5\n",
       "1         217     None   19\n",
       "2         779  Georgia   20\n",
       "3         849   Willow   14"
      ]
     },
     "execution_count": 16,
     "metadata": {},
     "output_type": "execute_result"
    }
   ],
   "source": [
    "student_data = {\n",
    "    'student_id' : [32,217,779,849],\n",
    "    'name' : ['Piper',None,'Georgia','Willow'],\n",
    "    'age' : [5,19,20,14]\n",
    "}\n",
    "students = pd.DataFrame(student_data)\n",
    "students"
   ]
  },
  {
   "cell_type": "code",
   "execution_count": 17,
   "id": "d645bd3d",
   "metadata": {},
   "outputs": [
    {
     "name": "stdout",
     "output_type": "stream",
     "text": [
      "   student_id     name  age\n",
      "0          32    Piper    5\n",
      "2         779  Georgia   20\n",
      "3         849   Willow   14\n"
     ]
    }
   ],
   "source": [
    "def dropMissingData(students: pd.DataFrame) -> pd.DataFrame:\n",
    "    cleaned_data = students.dropna(subset = ['name'])\n",
    "    return cleaned_data\n",
    "print(dropMissingData(students))"
   ]
  },
  {
   "cell_type": "markdown",
   "id": "188ef9b0",
   "metadata": {},
   "source": [
    "### Modify Columns\n",
    "#### A company intends to give its employees a pay rise.\n",
    "#### Write a solution to modify the salary column by multiplying each salary by 2."
   ]
  },
  {
   "cell_type": "code",
   "execution_count": 18,
   "id": "624b48a5",
   "metadata": {},
   "outputs": [
    {
     "data": {
      "text/html": [
       "<div>\n",
       "<style scoped>\n",
       "    .dataframe tbody tr th:only-of-type {\n",
       "        vertical-align: middle;\n",
       "    }\n",
       "\n",
       "    .dataframe tbody tr th {\n",
       "        vertical-align: top;\n",
       "    }\n",
       "\n",
       "    .dataframe thead th {\n",
       "        text-align: right;\n",
       "    }\n",
       "</style>\n",
       "<table border=\"1\" class=\"dataframe\">\n",
       "  <thead>\n",
       "    <tr style=\"text-align: right;\">\n",
       "      <th></th>\n",
       "      <th>name</th>\n",
       "      <th>salary</th>\n",
       "    </tr>\n",
       "  </thead>\n",
       "  <tbody>\n",
       "    <tr>\n",
       "      <th>0</th>\n",
       "      <td>Jack</td>\n",
       "      <td>19666</td>\n",
       "    </tr>\n",
       "    <tr>\n",
       "      <th>1</th>\n",
       "      <td>Piper</td>\n",
       "      <td>74754</td>\n",
       "    </tr>\n",
       "    <tr>\n",
       "      <th>2</th>\n",
       "      <td>Mia</td>\n",
       "      <td>62509</td>\n",
       "    </tr>\n",
       "    <tr>\n",
       "      <th>3</th>\n",
       "      <td>Ulysses</td>\n",
       "      <td>54866</td>\n",
       "    </tr>\n",
       "  </tbody>\n",
       "</table>\n",
       "</div>"
      ],
      "text/plain": [
       "      name  salary\n",
       "0     Jack   19666\n",
       "1    Piper   74754\n",
       "2      Mia   62509\n",
       "3  Ulysses   54866"
      ]
     },
     "execution_count": 18,
     "metadata": {},
     "output_type": "execute_result"
    }
   ],
   "source": [
    "employees_data = {\n",
    "    'name' : ['Jack','Piper','Mia','Ulysses'],\n",
    "    'salary': [19666,74754,62509,54866]\n",
    "}\n",
    "employees = pd.DataFrame(employees_data)\n",
    "employees"
   ]
  },
  {
   "cell_type": "code",
   "execution_count": 19,
   "id": "bff2636e",
   "metadata": {},
   "outputs": [
    {
     "name": "stdout",
     "output_type": "stream",
     "text": [
      "      name  salary\n",
      "0     Jack   39332\n",
      "1    Piper  149508\n",
      "2      Mia  125018\n",
      "3  Ulysses  109732\n"
     ]
    }
   ],
   "source": [
    "def modifySalaryColumn(employees: pd.DataFrame) -> pd.DataFrame:\n",
    "    employees['salary'] = employees['salary'] * 2\n",
    "    return employees\n",
    "print(modifySalaryColumn(employees))"
   ]
  },
  {
   "cell_type": "markdown",
   "id": "7fc547ac",
   "metadata": {},
   "source": [
    "###  Rename Columns\n",
    "#### Write a solution to rename the columns as follows:\n",
    "#### id to student_id\n",
    "#### first to first_name\n",
    "#### last to last_name\n",
    "#### age to age_in_years"
   ]
  },
  {
   "cell_type": "code",
   "execution_count": 20,
   "id": "b0e26754",
   "metadata": {},
   "outputs": [
    {
     "data": {
      "text/html": [
       "<div>\n",
       "<style scoped>\n",
       "    .dataframe tbody tr th:only-of-type {\n",
       "        vertical-align: middle;\n",
       "    }\n",
       "\n",
       "    .dataframe tbody tr th {\n",
       "        vertical-align: top;\n",
       "    }\n",
       "\n",
       "    .dataframe thead th {\n",
       "        text-align: right;\n",
       "    }\n",
       "</style>\n",
       "<table border=\"1\" class=\"dataframe\">\n",
       "  <thead>\n",
       "    <tr style=\"text-align: right;\">\n",
       "      <th></th>\n",
       "      <th>id</th>\n",
       "      <th>first</th>\n",
       "      <th>last</th>\n",
       "      <th>age</th>\n",
       "    </tr>\n",
       "  </thead>\n",
       "  <tbody>\n",
       "    <tr>\n",
       "      <th>0</th>\n",
       "      <td>1</td>\n",
       "      <td>Mason</td>\n",
       "      <td>King</td>\n",
       "      <td>6</td>\n",
       "    </tr>\n",
       "    <tr>\n",
       "      <th>1</th>\n",
       "      <td>2</td>\n",
       "      <td>Ava</td>\n",
       "      <td>Wright</td>\n",
       "      <td>7</td>\n",
       "    </tr>\n",
       "    <tr>\n",
       "      <th>2</th>\n",
       "      <td>3</td>\n",
       "      <td>Taylor</td>\n",
       "      <td>Hall</td>\n",
       "      <td>16</td>\n",
       "    </tr>\n",
       "    <tr>\n",
       "      <th>3</th>\n",
       "      <td>4</td>\n",
       "      <td>Georgia</td>\n",
       "      <td>Thompson</td>\n",
       "      <td>18</td>\n",
       "    </tr>\n",
       "    <tr>\n",
       "      <th>4</th>\n",
       "      <td>5</td>\n",
       "      <td>Thomas</td>\n",
       "      <td>Moore</td>\n",
       "      <td>10</td>\n",
       "    </tr>\n",
       "  </tbody>\n",
       "</table>\n",
       "</div>"
      ],
      "text/plain": [
       "   id    first      last  age\n",
       "0   1    Mason      King    6\n",
       "1   2      Ava    Wright    7\n",
       "2   3   Taylor      Hall   16\n",
       "3   4  Georgia  Thompson   18\n",
       "4   5   Thomas     Moore   10"
      ]
     },
     "execution_count": 20,
     "metadata": {},
     "output_type": "execute_result"
    }
   ],
   "source": [
    "students_data = {\n",
    "    'id' : [1,2,3,4,5],\n",
    "    'first': ['Mason','Ava','Taylor','Georgia','Thomas'],\n",
    "    'last': ['King','Wright','Hall','Thompson','Moore'],\n",
    "    'age' : [6,7,16,18,10]\n",
    "}\n",
    "students = pd.DataFrame(students_data)\n",
    "students"
   ]
  },
  {
   "cell_type": "code",
   "execution_count": 21,
   "id": "ea6cabdf",
   "metadata": {},
   "outputs": [
    {
     "name": "stdout",
     "output_type": "stream",
     "text": [
      "   student_id first_name last_name  age_in_years\n",
      "0           1      Mason      King             6\n",
      "1           2        Ava    Wright             7\n",
      "2           3     Taylor      Hall            16\n",
      "3           4    Georgia  Thompson            18\n",
      "4           5     Thomas     Moore            10\n"
     ]
    }
   ],
   "source": [
    "def renameColumns(students: pd.DataFrame) -> pd.DataFrame:\n",
    "    rename_col = students.rename(columns = {'id' : 'student_id','first' : 'first_name','last' : 'last_name',\n",
    "                                            'age' : 'age_in_years' })\n",
    "    return rename_col\n",
    "print(renameColumns(students))"
   ]
  },
  {
   "cell_type": "markdown",
   "id": "43fcfbb3",
   "metadata": {},
   "source": [
    "### Change Data Type\n",
    "#### Write a solution to correct the errors:\n",
    "#### The grade column is stored as floats, convert it to integers."
   ]
  },
  {
   "cell_type": "code",
   "execution_count": 22,
   "id": "df024da9",
   "metadata": {},
   "outputs": [
    {
     "data": {
      "text/html": [
       "<div>\n",
       "<style scoped>\n",
       "    .dataframe tbody tr th:only-of-type {\n",
       "        vertical-align: middle;\n",
       "    }\n",
       "\n",
       "    .dataframe tbody tr th {\n",
       "        vertical-align: top;\n",
       "    }\n",
       "\n",
       "    .dataframe thead th {\n",
       "        text-align: right;\n",
       "    }\n",
       "</style>\n",
       "<table border=\"1\" class=\"dataframe\">\n",
       "  <thead>\n",
       "    <tr style=\"text-align: right;\">\n",
       "      <th></th>\n",
       "      <th>student_id</th>\n",
       "      <th>name</th>\n",
       "      <th>age</th>\n",
       "      <th>grade</th>\n",
       "    </tr>\n",
       "  </thead>\n",
       "  <tbody>\n",
       "    <tr>\n",
       "      <th>0</th>\n",
       "      <td>1</td>\n",
       "      <td>Ava</td>\n",
       "      <td>6</td>\n",
       "      <td>73.0</td>\n",
       "    </tr>\n",
       "    <tr>\n",
       "      <th>1</th>\n",
       "      <td>2</td>\n",
       "      <td>Kate</td>\n",
       "      <td>15</td>\n",
       "      <td>87.0</td>\n",
       "    </tr>\n",
       "  </tbody>\n",
       "</table>\n",
       "</div>"
      ],
      "text/plain": [
       "   student_id  name  age  grade\n",
       "0           1   Ava    6   73.0\n",
       "1           2  Kate   15   87.0"
      ]
     },
     "execution_count": 22,
     "metadata": {},
     "output_type": "execute_result"
    }
   ],
   "source": [
    "students_data = {\n",
    "    'student_id' : [1,2],\n",
    "    'name' : ['Ava','Kate'],\n",
    "    'age' : [6,15],\n",
    "    'grade' : [73.0,87.0]\n",
    "}\n",
    "students = pd.DataFrame(students_data)\n",
    "students"
   ]
  },
  {
   "cell_type": "code",
   "execution_count": 23,
   "id": "94731e4d",
   "metadata": {},
   "outputs": [
    {
     "name": "stdout",
     "output_type": "stream",
     "text": [
      "   student_id  name  age  grade\n",
      "0           1   Ava    6     73\n",
      "1           2  Kate   15     87\n"
     ]
    }
   ],
   "source": [
    "def changeDatatype(students: pd.DataFrame) -> pd.DataFrame:\n",
    "    students['grade'] = students['grade'].astype(int)\n",
    "    return students\n",
    "print(changeDatatype(students))"
   ]
  },
  {
   "cell_type": "markdown",
   "id": "80a36359",
   "metadata": {},
   "source": [
    "###  Fill Missing Data\n",
    "#### Write a solution to fill in the missing value as 0 in the quantity column."
   ]
  },
  {
   "cell_type": "code",
   "execution_count": 24,
   "id": "0a72d81e",
   "metadata": {},
   "outputs": [
    {
     "data": {
      "text/html": [
       "<div>\n",
       "<style scoped>\n",
       "    .dataframe tbody tr th:only-of-type {\n",
       "        vertical-align: middle;\n",
       "    }\n",
       "\n",
       "    .dataframe tbody tr th {\n",
       "        vertical-align: top;\n",
       "    }\n",
       "\n",
       "    .dataframe thead th {\n",
       "        text-align: right;\n",
       "    }\n",
       "</style>\n",
       "<table border=\"1\" class=\"dataframe\">\n",
       "  <thead>\n",
       "    <tr style=\"text-align: right;\">\n",
       "      <th></th>\n",
       "      <th>name</th>\n",
       "      <th>quantity</th>\n",
       "      <th>price</th>\n",
       "    </tr>\n",
       "  </thead>\n",
       "  <tbody>\n",
       "    <tr>\n",
       "      <th>0</th>\n",
       "      <td>Wristwatch</td>\n",
       "      <td>NaN</td>\n",
       "      <td>135</td>\n",
       "    </tr>\n",
       "    <tr>\n",
       "      <th>1</th>\n",
       "      <td>WirelessEarbuds</td>\n",
       "      <td>NaN</td>\n",
       "      <td>821</td>\n",
       "    </tr>\n",
       "    <tr>\n",
       "      <th>2</th>\n",
       "      <td>GolfClubs</td>\n",
       "      <td>779.0</td>\n",
       "      <td>9319</td>\n",
       "    </tr>\n",
       "    <tr>\n",
       "      <th>3</th>\n",
       "      <td>Printer</td>\n",
       "      <td>849.0</td>\n",
       "      <td>3051</td>\n",
       "    </tr>\n",
       "  </tbody>\n",
       "</table>\n",
       "</div>"
      ],
      "text/plain": [
       "              name  quantity  price \n",
       "0       Wristwatch       NaN     135\n",
       "1  WirelessEarbuds       NaN     821\n",
       "2        GolfClubs     779.0    9319\n",
       "3          Printer     849.0    3051"
      ]
     },
     "execution_count": 24,
     "metadata": {},
     "output_type": "execute_result"
    }
   ],
   "source": [
    "products_data = {\n",
    "    'name' : ['Wristwatch','WirelessEarbuds','GolfClubs','Printer'],\n",
    "    'quantity': [None,None,779,849],\n",
    "    'price ' : [135,821,9319,3051]\n",
    "}\n",
    "products = pd.DataFrame(products_data)\n",
    "products"
   ]
  },
  {
   "cell_type": "code",
   "execution_count": 25,
   "id": "aac38db9",
   "metadata": {},
   "outputs": [
    {
     "name": "stdout",
     "output_type": "stream",
     "text": [
      "              name  quantity  price \n",
      "0       Wristwatch       0.0     135\n",
      "1  WirelessEarbuds       0.0     821\n",
      "2        GolfClubs     779.0    9319\n",
      "3          Printer     849.0    3051\n"
     ]
    }
   ],
   "source": [
    "def fillMissingValues(products: pd.DataFrame) -> pd.DataFrame:\n",
    "    products['quantity'].fillna(0,inplace = True)\n",
    "    return products\n",
    "print(fillMissingValues(products))"
   ]
  },
  {
   "cell_type": "markdown",
   "id": "1486c789",
   "metadata": {},
   "source": [
    "### Reshape Data : Concatenate\n",
    "#### Write a solution to concatenate these two DataFrames vertically into one DataFrame."
   ]
  },
  {
   "cell_type": "code",
   "execution_count": 26,
   "id": "0b4d9d78",
   "metadata": {},
   "outputs": [],
   "source": [
    "student1 = {\n",
    "    'student_id' : [1,2,3,4],\n",
    "    'name' : ['Mason','Ava','Taylor','Georgia'],\n",
    "    'age' : [8,6,15,17]\n",
    "}\n",
    "\n",
    "student2 = {\n",
    "    'student_id' : [5,6],\n",
    "    'name' : ['Leo','Alex'],\n",
    "    'age' : [7,7]\n",
    "}\n",
    "\n",
    "df1 = pd.DataFrame(student1)\n",
    "df2 = pd.DataFrame(student2)"
   ]
  },
  {
   "cell_type": "code",
   "execution_count": 27,
   "id": "a24abdd2",
   "metadata": {},
   "outputs": [
    {
     "data": {
      "text/html": [
       "<div>\n",
       "<style scoped>\n",
       "    .dataframe tbody tr th:only-of-type {\n",
       "        vertical-align: middle;\n",
       "    }\n",
       "\n",
       "    .dataframe tbody tr th {\n",
       "        vertical-align: top;\n",
       "    }\n",
       "\n",
       "    .dataframe thead th {\n",
       "        text-align: right;\n",
       "    }\n",
       "</style>\n",
       "<table border=\"1\" class=\"dataframe\">\n",
       "  <thead>\n",
       "    <tr style=\"text-align: right;\">\n",
       "      <th></th>\n",
       "      <th>student_id</th>\n",
       "      <th>name</th>\n",
       "      <th>age</th>\n",
       "    </tr>\n",
       "  </thead>\n",
       "  <tbody>\n",
       "    <tr>\n",
       "      <th>0</th>\n",
       "      <td>1</td>\n",
       "      <td>Mason</td>\n",
       "      <td>8</td>\n",
       "    </tr>\n",
       "    <tr>\n",
       "      <th>1</th>\n",
       "      <td>2</td>\n",
       "      <td>Ava</td>\n",
       "      <td>6</td>\n",
       "    </tr>\n",
       "    <tr>\n",
       "      <th>2</th>\n",
       "      <td>3</td>\n",
       "      <td>Taylor</td>\n",
       "      <td>15</td>\n",
       "    </tr>\n",
       "    <tr>\n",
       "      <th>3</th>\n",
       "      <td>4</td>\n",
       "      <td>Georgia</td>\n",
       "      <td>17</td>\n",
       "    </tr>\n",
       "  </tbody>\n",
       "</table>\n",
       "</div>"
      ],
      "text/plain": [
       "   student_id     name  age\n",
       "0           1    Mason    8\n",
       "1           2      Ava    6\n",
       "2           3   Taylor   15\n",
       "3           4  Georgia   17"
      ]
     },
     "execution_count": 27,
     "metadata": {},
     "output_type": "execute_result"
    }
   ],
   "source": [
    "df1"
   ]
  },
  {
   "cell_type": "code",
   "execution_count": 28,
   "id": "8ddf453d",
   "metadata": {
    "scrolled": true
   },
   "outputs": [
    {
     "data": {
      "text/html": [
       "<div>\n",
       "<style scoped>\n",
       "    .dataframe tbody tr th:only-of-type {\n",
       "        vertical-align: middle;\n",
       "    }\n",
       "\n",
       "    .dataframe tbody tr th {\n",
       "        vertical-align: top;\n",
       "    }\n",
       "\n",
       "    .dataframe thead th {\n",
       "        text-align: right;\n",
       "    }\n",
       "</style>\n",
       "<table border=\"1\" class=\"dataframe\">\n",
       "  <thead>\n",
       "    <tr style=\"text-align: right;\">\n",
       "      <th></th>\n",
       "      <th>student_id</th>\n",
       "      <th>name</th>\n",
       "      <th>age</th>\n",
       "    </tr>\n",
       "  </thead>\n",
       "  <tbody>\n",
       "    <tr>\n",
       "      <th>0</th>\n",
       "      <td>5</td>\n",
       "      <td>Leo</td>\n",
       "      <td>7</td>\n",
       "    </tr>\n",
       "    <tr>\n",
       "      <th>1</th>\n",
       "      <td>6</td>\n",
       "      <td>Alex</td>\n",
       "      <td>7</td>\n",
       "    </tr>\n",
       "  </tbody>\n",
       "</table>\n",
       "</div>"
      ],
      "text/plain": [
       "   student_id  name  age\n",
       "0           5   Leo    7\n",
       "1           6  Alex    7"
      ]
     },
     "execution_count": 28,
     "metadata": {},
     "output_type": "execute_result"
    }
   ],
   "source": [
    "df2"
   ]
  },
  {
   "cell_type": "code",
   "execution_count": 29,
   "id": "c499cb8c",
   "metadata": {},
   "outputs": [
    {
     "name": "stdout",
     "output_type": "stream",
     "text": [
      "   student_id     name  age\n",
      "0           1    Mason    8\n",
      "1           2      Ava    6\n",
      "2           3   Taylor   15\n",
      "3           4  Georgia   17\n",
      "4           5      Leo    7\n",
      "5           6     Alex    7\n"
     ]
    }
   ],
   "source": [
    "def concatenateTables(df1: pd.DataFrame, df2: pd.DataFrame) -> pd.DataFrame:\n",
    "    concat_df = pd.concat([df1,df2]).reset_index(drop = True)\n",
    "    return concat_df\n",
    "print(concatenateTables(df1,df2))"
   ]
  },
  {
   "cell_type": "markdown",
   "id": "dc3b85f3",
   "metadata": {},
   "source": [
    "### Reshape Data: Pivot\n",
    "#### Write a solution to pivot the data so that each row represents temperatures for a specific month, and each city is a separate column."
   ]
  },
  {
   "cell_type": "code",
   "execution_count": 30,
   "id": "9e68b9b0",
   "metadata": {},
   "outputs": [
    {
     "data": {
      "text/html": [
       "<div>\n",
       "<style scoped>\n",
       "    .dataframe tbody tr th:only-of-type {\n",
       "        vertical-align: middle;\n",
       "    }\n",
       "\n",
       "    .dataframe tbody tr th {\n",
       "        vertical-align: top;\n",
       "    }\n",
       "\n",
       "    .dataframe thead th {\n",
       "        text-align: right;\n",
       "    }\n",
       "</style>\n",
       "<table border=\"1\" class=\"dataframe\">\n",
       "  <thead>\n",
       "    <tr style=\"text-align: right;\">\n",
       "      <th></th>\n",
       "      <th>city</th>\n",
       "      <th>month</th>\n",
       "      <th>temperature</th>\n",
       "    </tr>\n",
       "  </thead>\n",
       "  <tbody>\n",
       "    <tr>\n",
       "      <th>0</th>\n",
       "      <td>Jacksonville</td>\n",
       "      <td>January</td>\n",
       "      <td>13</td>\n",
       "    </tr>\n",
       "    <tr>\n",
       "      <th>1</th>\n",
       "      <td>Jacksonville</td>\n",
       "      <td>February</td>\n",
       "      <td>23</td>\n",
       "    </tr>\n",
       "    <tr>\n",
       "      <th>2</th>\n",
       "      <td>Jacksonville</td>\n",
       "      <td>March</td>\n",
       "      <td>38</td>\n",
       "    </tr>\n",
       "    <tr>\n",
       "      <th>3</th>\n",
       "      <td>Jacksonville</td>\n",
       "      <td>April</td>\n",
       "      <td>5</td>\n",
       "    </tr>\n",
       "    <tr>\n",
       "      <th>4</th>\n",
       "      <td>Jacksonville</td>\n",
       "      <td>May</td>\n",
       "      <td>34</td>\n",
       "    </tr>\n",
       "    <tr>\n",
       "      <th>5</th>\n",
       "      <td>ElPaso</td>\n",
       "      <td>January</td>\n",
       "      <td>20</td>\n",
       "    </tr>\n",
       "    <tr>\n",
       "      <th>6</th>\n",
       "      <td>ElPaso</td>\n",
       "      <td>February</td>\n",
       "      <td>6</td>\n",
       "    </tr>\n",
       "    <tr>\n",
       "      <th>7</th>\n",
       "      <td>ElPaso</td>\n",
       "      <td>March</td>\n",
       "      <td>26</td>\n",
       "    </tr>\n",
       "    <tr>\n",
       "      <th>8</th>\n",
       "      <td>ElPaso</td>\n",
       "      <td>April</td>\n",
       "      <td>2</td>\n",
       "    </tr>\n",
       "    <tr>\n",
       "      <th>9</th>\n",
       "      <td>ElPaso</td>\n",
       "      <td>May</td>\n",
       "      <td>43</td>\n",
       "    </tr>\n",
       "  </tbody>\n",
       "</table>\n",
       "</div>"
      ],
      "text/plain": [
       "           city     month  temperature\n",
       "0  Jacksonville   January           13\n",
       "1  Jacksonville  February           23\n",
       "2  Jacksonville     March           38\n",
       "3  Jacksonville     April            5\n",
       "4  Jacksonville       May           34\n",
       "5        ElPaso   January           20\n",
       "6        ElPaso  February            6\n",
       "7        ElPaso     March           26\n",
       "8        ElPaso     April            2\n",
       "9        ElPaso       May           43"
      ]
     },
     "execution_count": 30,
     "metadata": {},
     "output_type": "execute_result"
    }
   ],
   "source": [
    "weather_data = {\n",
    "    'city' : ['Jacksonville','Jacksonville','Jacksonville','Jacksonville','Jacksonville',\n",
    "              'ElPaso','ElPaso','ElPaso','ElPaso','ElPaso'],\n",
    "    'month' : ['January','February','March','April','May','January','February','March','April','May'],\n",
    "    'temperature' : [13,23,38,5,34,20,6,26,2,43]\n",
    "}\n",
    "weather = pd.DataFrame(weather_data)\n",
    "weather"
   ]
  },
  {
   "cell_type": "code",
   "execution_count": 31,
   "id": "f0fe58dc",
   "metadata": {},
   "outputs": [
    {
     "name": "stdout",
     "output_type": "stream",
     "text": [
      "city      ElPaso  Jacksonville\n",
      "month                         \n",
      "April          2             5\n",
      "February       6            23\n",
      "January       20            13\n",
      "March         26            38\n",
      "May           43            34\n"
     ]
    }
   ],
   "source": [
    "def pivotTable(weather: pd.DataFrame) -> pd.DataFrame:\n",
    "    pivot_df = weather.pivot(index = 'month',columns = 'city', values = 'temperature')\n",
    "    return pivot_df\n",
    "print(pivotTable(weather))"
   ]
  },
  {
   "cell_type": "markdown",
   "id": "4b319735",
   "metadata": {},
   "source": [
    "### Reshape Data: Melt\n",
    "#### Write a solution to reshape the data so that each row represents sales data for a product in a specific quarter."
   ]
  },
  {
   "cell_type": "code",
   "execution_count": 32,
   "id": "9ac97176",
   "metadata": {},
   "outputs": [
    {
     "data": {
      "text/html": [
       "<div>\n",
       "<style scoped>\n",
       "    .dataframe tbody tr th:only-of-type {\n",
       "        vertical-align: middle;\n",
       "    }\n",
       "\n",
       "    .dataframe tbody tr th {\n",
       "        vertical-align: top;\n",
       "    }\n",
       "\n",
       "    .dataframe thead th {\n",
       "        text-align: right;\n",
       "    }\n",
       "</style>\n",
       "<table border=\"1\" class=\"dataframe\">\n",
       "  <thead>\n",
       "    <tr style=\"text-align: right;\">\n",
       "      <th></th>\n",
       "      <th>product</th>\n",
       "      <th>quarter_1</th>\n",
       "      <th>quarter_2</th>\n",
       "      <th>quarter_3</th>\n",
       "      <th>quarter_4</th>\n",
       "    </tr>\n",
       "  </thead>\n",
       "  <tbody>\n",
       "    <tr>\n",
       "      <th>0</th>\n",
       "      <td>Umbrella</td>\n",
       "      <td>417</td>\n",
       "      <td>224</td>\n",
       "      <td>379</td>\n",
       "      <td>611</td>\n",
       "    </tr>\n",
       "    <tr>\n",
       "      <th>1</th>\n",
       "      <td>SleepingBag</td>\n",
       "      <td>800</td>\n",
       "      <td>936</td>\n",
       "      <td>93</td>\n",
       "      <td>875</td>\n",
       "    </tr>\n",
       "  </tbody>\n",
       "</table>\n",
       "</div>"
      ],
      "text/plain": [
       "       product  quarter_1  quarter_2  quarter_3  quarter_4\n",
       "0     Umbrella        417        224        379        611\n",
       "1  SleepingBag        800        936         93        875"
      ]
     },
     "execution_count": 32,
     "metadata": {},
     "output_type": "execute_result"
    }
   ],
   "source": [
    "report_data = {\n",
    "    'product' : ['Umbrella','SleepingBag'],\n",
    "    'quarter_1':[417,800],\n",
    "    'quarter_2':[224,936],\n",
    "    'quarter_3':[379,93],\n",
    "    'quarter_4':[611,875]\n",
    "}\n",
    "report = pd.DataFrame(report_data)\n",
    "report"
   ]
  },
  {
   "cell_type": "code",
   "execution_count": 33,
   "id": "777f3524",
   "metadata": {},
   "outputs": [
    {
     "name": "stdout",
     "output_type": "stream",
     "text": [
      "       product    quarter  sales\n",
      "0     Umbrella  quarter_1    417\n",
      "1  SleepingBag  quarter_1    800\n",
      "2     Umbrella  quarter_2    224\n",
      "3  SleepingBag  quarter_2    936\n",
      "4     Umbrella  quarter_3    379\n",
      "5  SleepingBag  quarter_3     93\n",
      "6     Umbrella  quarter_4    611\n",
      "7  SleepingBag  quarter_4    875\n"
     ]
    }
   ],
   "source": [
    "def meltTable(report: pd.DataFrame) -> pd.DataFrame:\n",
    "    report_melt = report.melt(id_vars ='product',var_name = 'quarter',value_name = 'sales')\n",
    "    return report_melt\n",
    "print(meltTable(report))"
   ]
  },
  {
   "cell_type": "markdown",
   "id": "36466696",
   "metadata": {},
   "source": [
    "### Method Chaining\n",
    "#### Write a solution to list the names of animals that weigh strictly more than 100 kilograms.\n",
    "#### Return the animals sorted by weight in descending order."
   ]
  },
  {
   "cell_type": "code",
   "execution_count": 34,
   "id": "ca4d62ec",
   "metadata": {},
   "outputs": [
    {
     "data": {
      "text/html": [
       "<div>\n",
       "<style scoped>\n",
       "    .dataframe tbody tr th:only-of-type {\n",
       "        vertical-align: middle;\n",
       "    }\n",
       "\n",
       "    .dataframe tbody tr th {\n",
       "        vertical-align: top;\n",
       "    }\n",
       "\n",
       "    .dataframe thead th {\n",
       "        text-align: right;\n",
       "    }\n",
       "</style>\n",
       "<table border=\"1\" class=\"dataframe\">\n",
       "  <thead>\n",
       "    <tr style=\"text-align: right;\">\n",
       "      <th></th>\n",
       "      <th>name</th>\n",
       "      <th>species</th>\n",
       "      <th>age</th>\n",
       "      <th>weight</th>\n",
       "    </tr>\n",
       "  </thead>\n",
       "  <tbody>\n",
       "    <tr>\n",
       "      <th>0</th>\n",
       "      <td>Tatiana</td>\n",
       "      <td>Snake</td>\n",
       "      <td>98</td>\n",
       "      <td>464</td>\n",
       "    </tr>\n",
       "    <tr>\n",
       "      <th>1</th>\n",
       "      <td>Khaled</td>\n",
       "      <td>Giraffe</td>\n",
       "      <td>50</td>\n",
       "      <td>41</td>\n",
       "    </tr>\n",
       "    <tr>\n",
       "      <th>2</th>\n",
       "      <td>Alex</td>\n",
       "      <td>Leopard</td>\n",
       "      <td>6</td>\n",
       "      <td>328</td>\n",
       "    </tr>\n",
       "    <tr>\n",
       "      <th>3</th>\n",
       "      <td>Jonathan</td>\n",
       "      <td>Monkey</td>\n",
       "      <td>45</td>\n",
       "      <td>463</td>\n",
       "    </tr>\n",
       "    <tr>\n",
       "      <th>4</th>\n",
       "      <td>Stefan</td>\n",
       "      <td>Bear</td>\n",
       "      <td>100</td>\n",
       "      <td>50</td>\n",
       "    </tr>\n",
       "    <tr>\n",
       "      <th>5</th>\n",
       "      <td>Tommy</td>\n",
       "      <td>Panda</td>\n",
       "      <td>26</td>\n",
       "      <td>349</td>\n",
       "    </tr>\n",
       "  </tbody>\n",
       "</table>\n",
       "</div>"
      ],
      "text/plain": [
       "       name  species  age  weight\n",
       "0   Tatiana    Snake   98     464\n",
       "1    Khaled  Giraffe   50      41\n",
       "2      Alex  Leopard    6     328\n",
       "3  Jonathan   Monkey   45     463\n",
       "4    Stefan     Bear  100      50\n",
       "5     Tommy    Panda   26     349"
      ]
     },
     "execution_count": 34,
     "metadata": {},
     "output_type": "execute_result"
    }
   ],
   "source": [
    "animals_data = {\n",
    "    'name' : ['Tatiana','Khaled','Alex','Jonathan','Stefan','Tommy'],\n",
    "    'species' : ['Snake','Giraffe','Leopard','Monkey','Bear','Panda'],\n",
    "    'age' : [98,50,6,45,100,26],\n",
    "    'weight' : [464,41,328,463,50,349]\n",
    "}\n",
    "animals = pd.DataFrame(animals_data)\n",
    "animals"
   ]
  },
  {
   "cell_type": "code",
   "execution_count": 35,
   "id": "b67b8f47",
   "metadata": {},
   "outputs": [
    {
     "name": "stdout",
     "output_type": "stream",
     "text": [
      "       name\n",
      "0   Tatiana\n",
      "1  Jonathan\n",
      "2     Tommy\n",
      "3      Alex\n"
     ]
    }
   ],
   "source": [
    "def findHeavyAnimals(animals: pd.DataFrame) -> pd.DataFrame:\n",
    "    heavy_animals = animals[animals['weight']>100]\n",
    "    sorted_heavy_animals = heavy_animals.sort_values(by='weight',ascending = False)\n",
    "    names_heavy_animals = sorted_heavy_animals[['name']].reset_index(drop= True)\n",
    "    return names_heavy_animals\n",
    "print(findHeavyAnimals(animals))"
   ]
  },
  {
   "cell_type": "code",
   "execution_count": null,
   "id": "fcb04150",
   "metadata": {},
   "outputs": [],
   "source": []
  },
  {
   "cell_type": "code",
   "execution_count": null,
   "id": "d360a27c",
   "metadata": {},
   "outputs": [],
   "source": []
  },
  {
   "cell_type": "code",
   "execution_count": null,
   "id": "e83e2fe0",
   "metadata": {},
   "outputs": [],
   "source": []
  }
 ],
 "metadata": {
  "kernelspec": {
   "display_name": "Python 3 (ipykernel)",
   "language": "python",
   "name": "python3"
  },
  "language_info": {
   "codemirror_mode": {
    "name": "ipython",
    "version": 3
   },
   "file_extension": ".py",
   "mimetype": "text/x-python",
   "name": "python",
   "nbconvert_exporter": "python",
   "pygments_lexer": "ipython3",
   "version": "3.11.5"
  }
 },
 "nbformat": 4,
 "nbformat_minor": 5
}
